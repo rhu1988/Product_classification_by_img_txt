{
 "cells": [
  {
   "cell_type": "code",
   "execution_count": 15,
   "metadata": {
    "collapsed": true
   },
   "outputs": [],
   "source": [
    "import numpy as np\n",
    "import pandas as pd\n",
    "import tensorflow as tf\n",
    "import keras\n",
    "import PIL\n",
    "import io\n",
    "from keras.applications import resnet50\n",
    "import h5py\n",
    "import matplotlib.image as mat_img\n",
    "from PIL import Image\n",
    "import urllib.request\n",
    "from keras.preprocessing.image import load_img, img_to_array\n",
    "from sklearn.feature_extraction.text import TfidfVectorizer"
   ]
  },
  {
   "cell_type": "markdown",
   "metadata": {},
   "source": [
    "The main Idea of the Challenge is combining image features and text features to train a fully connected neural networks. \n",
    "\n",
    "To generate image features from image urls, I download the images and convert them into numpy array (matrix like). And apply ResNet50 without fully connected part to generate image features. The reason of using ResNet50 is that it has competitive accuracy with lower operations. \n",
    "\n",
    "For title part, I apply tfidf vectorization to titles. It gives text features based on frequencies. With image and text features prepared, I use keras to build a one-hidden-layer of text and two-hidden-layer of image neural networks with dropout regularization. \n",
    "\n",
    "The model can reach 99.9% accuracy on training set. After training the model, I spilt the unclassified dataframe into eleven small dataframes because image processing is really time consuming."
   ]
  },
  {
   "cell_type": "code",
   "execution_count": 16,
   "metadata": {
    "collapsed": true
   },
   "outputs": [],
   "source": [
    "train_df=pd.read_excel('Training_Data_Assessment.xlsx')"
   ]
  },
  {
   "cell_type": "code",
   "execution_count": 17,
   "metadata": {
    "collapsed": true
   },
   "outputs": [],
   "source": [
    "#Save training images\n",
    "#def save_images(url):\n",
    "#    import re\n",
    "#    with urllib.request.urlopen(url) as URL:\n",
    "#        with open('temp.jpg','wb') as f:\n",
    "#            f.write(URL.read())\n",
    "#        img=Image.open('temp.jpg').convert('RGB')\n",
    "#        img=img.resize((224,224))\n",
    "#        img.save('train_images/'+url.split('/')[-1])\n",
    "#    return\n",
    "#train_df['ImageUrl'].map(save_images)"
   ]
  },
  {
   "cell_type": "code",
   "execution_count": 18,
   "metadata": {
    "collapsed": true,
    "scrolled": true
   },
   "outputs": [],
   "source": [
    "def url_to_name(url):\n",
    "    name=url.split('/')[-1]\n",
    "    return name"
   ]
  },
  {
   "cell_type": "code",
   "execution_count": 19,
   "metadata": {
    "collapsed": true
   },
   "outputs": [],
   "source": [
    "train_df['Images']=train_df['ImageUrl'].map(url_to_name)"
   ]
  },
  {
   "cell_type": "code",
   "execution_count": null,
   "metadata": {
    "collapsed": true
   },
   "outputs": [],
   "source": [
    "#Save images to classify\n",
    "def save_images_to_classify(url):\n",
    "    with urllib.request.urlopen(url) as URL:\n",
    "        with open('temp.jpg','wb') as f:\n",
    "            f.write(URL.read())\n",
    "        img=Image.open('temp.jpg').convert('RGB')\n",
    "        img=img.resize((224,224))\n",
    "        img.save('data/images_to_classify/'+url.split('/')[-1])\n",
    "    return"
   ]
  },
  {
   "cell_type": "code",
   "execution_count": 20,
   "metadata": {
    "scrolled": false
   },
   "outputs": [
    {
     "data": {
      "text/html": [
       "<div>\n",
       "<style scoped>\n",
       "    .dataframe tbody tr th:only-of-type {\n",
       "        vertical-align: middle;\n",
       "    }\n",
       "\n",
       "    .dataframe tbody tr th {\n",
       "        vertical-align: top;\n",
       "    }\n",
       "\n",
       "    .dataframe thead th {\n",
       "        text-align: right;\n",
       "    }\n",
       "</style>\n",
       "<table border=\"1\" class=\"dataframe\">\n",
       "  <thead>\n",
       "    <tr style=\"text-align: right;\">\n",
       "      <th></th>\n",
       "      <th>ASIN</th>\n",
       "      <th>BrandName</th>\n",
       "      <th>Title</th>\n",
       "      <th>ImageUrl</th>\n",
       "      <th>Images</th>\n",
       "    </tr>\n",
       "  </thead>\n",
       "  <tbody>\n",
       "    <tr>\n",
       "      <th>0</th>\n",
       "      <td>B005DIRI6I</td>\n",
       "      <td>Portta</td>\n",
       "      <td>Portta Digital Coaxial Toslink to Analog (L/R)...</td>\n",
       "      <td>http://ecx.images-amazon.com/images/I/01KGAAk9...</td>\n",
       "      <td>01KGAAk9oOL.jpg</td>\n",
       "    </tr>\n",
       "    <tr>\n",
       "      <th>1</th>\n",
       "      <td>B000OYR9S8</td>\n",
       "      <td>Savage</td>\n",
       "      <td>Savage SV-107X12-56 Seamless Background Paper ...</td>\n",
       "      <td>http://ecx.images-amazon.com/images/I/01OWR5or...</td>\n",
       "      <td>01OWR5or7hL.jpg</td>\n",
       "    </tr>\n",
       "    <tr>\n",
       "      <th>2</th>\n",
       "      <td>B00WT9UV3Q</td>\n",
       "      <td>Avtech</td>\n",
       "      <td>AVTech AVS228 8CH HD-SDI DVR</td>\n",
       "      <td>http://ecx.images-amazon.com/images/I/11%2BWuk...</td>\n",
       "      <td>11%2BWukuvN5L.jpg</td>\n",
       "    </tr>\n",
       "    <tr>\n",
       "      <th>3</th>\n",
       "      <td>B010F69FRC</td>\n",
       "      <td>Dahua</td>\n",
       "      <td>Dahua NVR4416-P / EX-NVRDR-P Dual Core CPU - 1...</td>\n",
       "      <td>http://ecx.images-amazon.com/images/I/111McGzd...</td>\n",
       "      <td>111McGzdcWL.jpg</td>\n",
       "    </tr>\n",
       "    <tr>\n",
       "      <th>4</th>\n",
       "      <td>B00U4S0FE4</td>\n",
       "      <td>HP</td>\n",
       "      <td>HP KVM Console G3 Switch 0x1x8 - 8 Ports - USB...</td>\n",
       "      <td>http://ecx.images-amazon.com/images/I/112CVCFg...</td>\n",
       "      <td>112CVCFgDnL.jpg</td>\n",
       "    </tr>\n",
       "    <tr>\n",
       "      <th>5</th>\n",
       "      <td>B000JCXDQC</td>\n",
       "      <td>Techcraft</td>\n",
       "      <td>TechCraft SWP60 60-Inch Wide Flat Panel TV Cre...</td>\n",
       "      <td>http://ecx.images-amazon.com/images/I/113gKN1r...</td>\n",
       "      <td>113gKN1rFlL.jpg</td>\n",
       "    </tr>\n",
       "    <tr>\n",
       "      <th>6</th>\n",
       "      <td>B00YHI9ZD4</td>\n",
       "      <td>Generic</td>\n",
       "      <td>Logitech PTZ Pro Camera - T - 960-001021 by Ge...</td>\n",
       "      <td>http://ecx.images-amazon.com/images/I/113L4%2B...</td>\n",
       "      <td>113L4%2BWrNZL.jpg</td>\n",
       "    </tr>\n",
       "    <tr>\n",
       "      <th>7</th>\n",
       "      <td>B001795LDY</td>\n",
       "      <td>Sanus</td>\n",
       "      <td>Sanus LT25-B1 Large Mount with Tilt for 37\" To...</td>\n",
       "      <td>http://ecx.images-amazon.com/images/I/113nNf7j...</td>\n",
       "      <td>113nNf7jYpL.jpg</td>\n",
       "    </tr>\n",
       "    <tr>\n",
       "      <th>8</th>\n",
       "      <td>B00LQEVYS6</td>\n",
       "      <td>NEC</td>\n",
       "      <td>NEC 6700 Lumens 1280 x 800 WXGA 6000:1 Advance...</td>\n",
       "      <td>http://ecx.images-amazon.com/images/I/114ahyEn...</td>\n",
       "      <td>114ahyEnMrL.jpg</td>\n",
       "    </tr>\n",
       "    <tr>\n",
       "      <th>9</th>\n",
       "      <td>B00MOWF5F2</td>\n",
       "      <td>Smart Security Club</td>\n",
       "      <td>Dahua NVR5416-16P 16ch 1.5U 16 PoE NVR 5 Megap...</td>\n",
       "      <td>http://ecx.images-amazon.com/images/I/1153odH6...</td>\n",
       "      <td>1153odH6UvL.jpg</td>\n",
       "    </tr>\n",
       "  </tbody>\n",
       "</table>\n",
       "</div>"
      ],
      "text/plain": [
       "         ASIN            BrandName  \\\n",
       "0  B005DIRI6I               Portta   \n",
       "1  B000OYR9S8               Savage   \n",
       "2  B00WT9UV3Q               Avtech   \n",
       "3  B010F69FRC                Dahua   \n",
       "4  B00U4S0FE4                   HP   \n",
       "5  B000JCXDQC            Techcraft   \n",
       "6  B00YHI9ZD4              Generic   \n",
       "7  B001795LDY                Sanus   \n",
       "8  B00LQEVYS6                  NEC   \n",
       "9  B00MOWF5F2  Smart Security Club   \n",
       "\n",
       "                                               Title  \\\n",
       "0  Portta Digital Coaxial Toslink to Analog (L/R)...   \n",
       "1  Savage SV-107X12-56 Seamless Background Paper ...   \n",
       "2                       AVTech AVS228 8CH HD-SDI DVR   \n",
       "3  Dahua NVR4416-P / EX-NVRDR-P Dual Core CPU - 1...   \n",
       "4  HP KVM Console G3 Switch 0x1x8 - 8 Ports - USB...   \n",
       "5  TechCraft SWP60 60-Inch Wide Flat Panel TV Cre...   \n",
       "6  Logitech PTZ Pro Camera - T - 960-001021 by Ge...   \n",
       "7  Sanus LT25-B1 Large Mount with Tilt for 37\" To...   \n",
       "8  NEC 6700 Lumens 1280 x 800 WXGA 6000:1 Advance...   \n",
       "9  Dahua NVR5416-16P 16ch 1.5U 16 PoE NVR 5 Megap...   \n",
       "\n",
       "                                            ImageUrl             Images  \n",
       "0  http://ecx.images-amazon.com/images/I/01KGAAk9...    01KGAAk9oOL.jpg  \n",
       "1  http://ecx.images-amazon.com/images/I/01OWR5or...    01OWR5or7hL.jpg  \n",
       "2  http://ecx.images-amazon.com/images/I/11%2BWuk...  11%2BWukuvN5L.jpg  \n",
       "3  http://ecx.images-amazon.com/images/I/111McGzd...    111McGzdcWL.jpg  \n",
       "4  http://ecx.images-amazon.com/images/I/112CVCFg...    112CVCFgDnL.jpg  \n",
       "5  http://ecx.images-amazon.com/images/I/113gKN1r...    113gKN1rFlL.jpg  \n",
       "6  http://ecx.images-amazon.com/images/I/113L4%2B...  113L4%2BWrNZL.jpg  \n",
       "7  http://ecx.images-amazon.com/images/I/113nNf7j...    113nNf7jYpL.jpg  \n",
       "8  http://ecx.images-amazon.com/images/I/114ahyEn...    114ahyEnMrL.jpg  \n",
       "9  http://ecx.images-amazon.com/images/I/1153odH6...    1153odH6UvL.jpg  "
      ]
     },
     "execution_count": 20,
     "metadata": {},
     "output_type": "execute_result"
    }
   ],
   "source": [
    "#Create names for images\n",
    "to_classify_df=pd.read_excel('Data To Classify_Assessment.xlsx')\n",
    "to_classify_df['Images']=to_classify_df['ImageUrl'].map(url_to_name)\n",
    "to_classify_df.head(10)"
   ]
  },
  {
   "cell_type": "code",
   "execution_count": null,
   "metadata": {
    "collapsed": true,
    "scrolled": true
   },
   "outputs": [],
   "source": [
    "#to_classify_df['ImageUrl'].map(save_images_to_classify)"
   ]
  },
  {
   "cell_type": "code",
   "execution_count": 21,
   "metadata": {},
   "outputs": [
    {
     "data": {
      "text/html": [
       "<div>\n",
       "<style scoped>\n",
       "    .dataframe tbody tr th:only-of-type {\n",
       "        vertical-align: middle;\n",
       "    }\n",
       "\n",
       "    .dataframe tbody tr th {\n",
       "        vertical-align: top;\n",
       "    }\n",
       "\n",
       "    .dataframe thead th {\n",
       "        text-align: right;\n",
       "    }\n",
       "</style>\n",
       "<table border=\"1\" class=\"dataframe\">\n",
       "  <thead>\n",
       "    <tr style=\"text-align: right;\">\n",
       "      <th></th>\n",
       "      <th>Category</th>\n",
       "    </tr>\n",
       "  </thead>\n",
       "  <tbody>\n",
       "    <tr>\n",
       "      <th>0</th>\n",
       "      <td>Headphones</td>\n",
       "    </tr>\n",
       "    <tr>\n",
       "      <th>1</th>\n",
       "      <td>Cables</td>\n",
       "    </tr>\n",
       "    <tr>\n",
       "      <th>2</th>\n",
       "      <td>Security &amp; Surveillance</td>\n",
       "    </tr>\n",
       "    <tr>\n",
       "      <th>3</th>\n",
       "      <td>Streaming Media</td>\n",
       "    </tr>\n",
       "    <tr>\n",
       "      <th>4</th>\n",
       "      <td>Television Accessories</td>\n",
       "    </tr>\n",
       "  </tbody>\n",
       "</table>\n",
       "</div>"
      ],
      "text/plain": [
       "                  Category\n",
       "0               Headphones\n",
       "1                   Cables\n",
       "2  Security & Surveillance\n",
       "3          Streaming Media\n",
       "4   Television Accessories"
      ]
     },
     "execution_count": 21,
     "metadata": {},
     "output_type": "execute_result"
    }
   ],
   "source": [
    "categories=pd.read_excel('Categories_Assessment.xlsx',header=None)\n",
    "categories.columns=['Category']\n",
    "categories.head(5)"
   ]
  },
  {
   "cell_type": "code",
   "execution_count": null,
   "metadata": {
    "collapsed": true,
    "scrolled": true
   },
   "outputs": [],
   "source": [
    "#load ResNet50\n",
    "model=resnet50.ResNet50(include_top=False,weights='imagenet',input_shape=(224,224,3))"
   ]
  },
  {
   "cell_type": "code",
   "execution_count": null,
   "metadata": {
    "collapsed": true
   },
   "outputs": [],
   "source": [
    "#def resnet_feature(img_name):\n",
    "#    img=load_img('data/train_images//'+img_name)\n",
    "#    img=img_to_array(img)\n",
    "#    img=np.expand_dims(img,axis=0)\n",
    "#    resnetFeature=model.predict(img)\n",
    "#    return resnetFeature"
   ]
  },
  {
   "cell_type": "code",
   "execution_count": null,
   "metadata": {
    "collapsed": true
   },
   "outputs": [],
   "source": [
    "#train_df['res_feature']=train_df['Images'].map(resnet_feature)"
   ]
  },
  {
   "cell_type": "code",
   "execution_count": null,
   "metadata": {
    "collapsed": true
   },
   "outputs": [],
   "source": [
    "#res_features=np.array(train_df['res_feature'].tolist())\n",
    "#res_features.shape"
   ]
  },
  {
   "cell_type": "code",
   "execution_count": null,
   "metadata": {
    "collapsed": true
   },
   "outputs": [],
   "source": [
    "#load data of image features and flat arrays\n",
    "resnet_feature=np.load('res_features.npy')\n",
    "resnet_feature=np.array([array.flatten() for array in resnet_feature])\n",
    "resnet_feature.shape"
   ]
  },
  {
   "cell_type": "code",
   "execution_count": 22,
   "metadata": {
    "collapsed": true,
    "scrolled": true
   },
   "outputs": [],
   "source": [
    "# Generate text features\n",
    "text_list=train_df['Title'].tolist()\n",
    "brand=train_df['BrandName'].tolist()\n",
    "vectorizer=TfidfVectorizer(ngram_range=(1,2),stop_words='english',sublinear_tf=False,use_idf=True,max_df=0.95,min_df=5)"
   ]
  },
  {
   "cell_type": "code",
   "execution_count": 23,
   "metadata": {
    "collapsed": true,
    "scrolled": true
   },
   "outputs": [],
   "source": [
    "#to_classify_df['ImageUrl'].map(save_images_to_classify)\n",
    "#to_classify_df['res_features']=to_classify_df['Images'].map(resnet_feature_to_classify)"
   ]
  },
  {
   "cell_type": "code",
   "execution_count": 24,
   "metadata": {
    "collapsed": true
   },
   "outputs": [],
   "source": [
    "tfidf=vectorizer.fit_transform(text_list)"
   ]
  },
  {
   "cell_type": "code",
   "execution_count": null,
   "metadata": {
    "collapsed": true
   },
   "outputs": [],
   "source": [
    "from keras.models import Model\n",
    "from keras.layers import Input, Dense\n",
    "from keras.layers import Dropout, concatenate"
   ]
  },
  {
   "cell_type": "code",
   "execution_count": null,
   "metadata": {
    "collapsed": true
   },
   "outputs": [],
   "source": [
    "# Build model to train features of image and text\n",
    "text_features=Input(shape=tfidf.shape[1:],dtype='float32')\n",
    "img_features=Input(shape=resnet_feature.shape[1:],dtype='float32')"
   ]
  },
  {
   "cell_type": "code",
   "execution_count": null,
   "metadata": {
    "collapsed": true
   },
   "outputs": [],
   "source": [
    "x_text=Dense(256,activation='relu')(text_features)\n",
    "x_text=Dropout(0.5)(x_text)"
   ]
  },
  {
   "cell_type": "code",
   "execution_count": null,
   "metadata": {
    "collapsed": true
   },
   "outputs": [],
   "source": [
    "x_img=Dense(256,activation='relu')(img_features)\n",
    "x_img=Dropout(0.5)(x_img)\n",
    "x_img=Dense(256,activation='relu')(x_img)\n",
    "x_img=Dropout(0.5)(x_img)"
   ]
  },
  {
   "cell_type": "code",
   "execution_count": null,
   "metadata": {
    "collapsed": true,
    "scrolled": true
   },
   "outputs": [],
   "source": [
    "img_text=concatenate([x_img,x_text])\n",
    "predictions=Dense(63,activation='softmax')(img_text)"
   ]
  },
  {
   "cell_type": "code",
   "execution_count": null,
   "metadata": {
    "collapsed": true
   },
   "outputs": [],
   "source": [
    "model=Model(inputs=[img_features,text_features],outputs=[predictions])\n",
    "model.compile(optimizer='adam',loss='categorical_crossentropy',metrics=['accuracy'])"
   ]
  },
  {
   "cell_type": "code",
   "execution_count": 35,
   "metadata": {
    "collapsed": true
   },
   "outputs": [],
   "source": [
    "# Create one hot vectors for categories\n",
    "y_train=train_df['CategoryName'].tolist()\n",
    "from sklearn.preprocessing import MultiLabelBinarizer\n",
    "mlb=MultiLabelBinarizer()\n",
    "y_train=mlb.fit_transform(s.split(',') for s in y_train)"
   ]
  },
  {
   "cell_type": "code",
   "execution_count": null,
   "metadata": {
    "collapsed": true
   },
   "outputs": [],
   "source": [
    "# Build a generator to feed data by using a function in amazon_products from github\n",
    "from amazon_products import text_generators\n",
    "generator=text_generators.sparse_batch_generator(resnet_feature,tfidf,y_train,shuffle=True)"
   ]
  },
  {
   "cell_type": "code",
   "execution_count": null,
   "metadata": {
    "collapsed": true,
    "scrolled": true
   },
   "outputs": [],
   "source": [
    "batch_size=32\n",
    "steps=int(np.ceil(tfidf.shape[0]/batch_size))\n",
    "model.fit_generator(generator,steps_per_epoch=steps,epochs=50)"
   ]
  },
  {
   "cell_type": "code",
   "execution_count": null,
   "metadata": {
    "collapsed": true
   },
   "outputs": [],
   "source": [
    "model.save('stackline_img_text_model.hdf5')"
   ]
  },
  {
   "cell_type": "code",
   "execution_count": null,
   "metadata": {
    "collapsed": true,
    "scrolled": true
   },
   "outputs": [],
   "source": [
    "#Transfer images in imagest_to_classifty into resnet feature array\n",
    "def resnet_feature_to_classify(img_name):\n",
    "    img=load_img('data/images_to_classify/'+img_name)\n",
    "    img=img_to_array(img)\n",
    "    img=np.expand_dims(img,axis=0)\n",
    "    resnetFeature=model.predict(img)\n",
    "    return resnetFeature\n"
   ]
  },
  {
   "cell_type": "code",
   "execution_count": 10,
   "metadata": {
    "collapsed": true
   },
   "outputs": [],
   "source": [
    "# Split to_classify_df\n",
    "to_classify1,to_classify2,to_classify3,to_classify4,to_classify5,to_classify6,to_classify7,to_classify8,to_classify9,to_classify10,to_classify11=to_classify_df[0:5000],to_classify_df[5000:10000],to_classify_df[10000:15000],to_classify_df[15000:20000],to_classify_df[20000:25000],to_classify_df[25000:30000],to_classify_df[30000:35000],to_classify_df[35000:40000],to_classify_df[40000:45000],to_classify_df[45000:50000],to_classify_df[50000:]"
   ]
  },
  {
   "cell_type": "code",
   "execution_count": null,
   "metadata": {
    "collapsed": true,
    "scrolled": true
   },
   "outputs": [],
   "source": [
    "#Generate ResNet Features by using ResNet50 model. I manully do it to every part and save the data into npy files. It is very time comsuming.\n",
    "#Repeat this part for every splited dataframe\n",
    "#to_classify3['res_features']=to_classify3['Images'].map(resnet_feature_to_classify)\n",
    "#resnet_classify3=np.array(to_classify3['res_features'].tolist())\n",
    "#np.save('resnet_classify3.npy',resnet_classify3)"
   ]
  },
  {
   "cell_type": "code",
   "execution_count": 25,
   "metadata": {
    "collapsed": true
   },
   "outputs": [],
   "source": [
    "from keras.models import load_model\n",
    "mymodel=load_model('stackline_img_text_model.hdf5')"
   ]
  },
  {
   "cell_type": "code",
   "execution_count": 93,
   "metadata": {
    "collapsed": true
   },
   "outputs": [],
   "source": [
    "# Using my trained model to predict data to unclassified data.\n",
    "text_list=to_classify7['Title'].tolist()"
   ]
  },
  {
   "cell_type": "code",
   "execution_count": 94,
   "metadata": {
    "collapsed": true
   },
   "outputs": [],
   "source": [
    "tfidf=vectorizer.transform(text_list)"
   ]
  },
  {
   "cell_type": "code",
   "execution_count": 95,
   "metadata": {
    "collapsed": true
   },
   "outputs": [],
   "source": [
    "resnet_classify7=np.load('resnet_classify7.npy')\n",
    "resnet_classify7=np.array([array.flatten() for array in resnet_classify7])"
   ]
  },
  {
   "cell_type": "code",
   "execution_count": 29,
   "metadata": {
    "collapsed": true
   },
   "outputs": [],
   "source": [
    "# Function to give a generator for prediction\n",
    "import numpy as np\n",
    "import scipy.sparse as sparse\n",
    "def generator_for_predict(image_features,text_features,batch_size=32):\n",
    "    if image_features.shape[0] != text_features.shape[0]:\n",
    "        raise ValueError('Features have different number of samples!')\n",
    "    n_samples = image_features.shape[0]\n",
    "    n_batches = np.ceil(n_samples / batch_size)\n",
    "    \n",
    "    counter = 0\n",
    "    sample_index = np.arange(n_samples)\n",
    "    while True:\n",
    "        batch_index = sample_index[batch_size * counter:batch_size * (counter + 1)]\n",
    "        image_batch = image_features[batch_index, :]\n",
    "        if sparse.issparse(image_batch):\n",
    "            image_batch = image_batch.toarray()\n",
    "        text_batch = text_features[batch_index, :]\n",
    "        if sparse.issparse(text_batch):\n",
    "            text_batch = text_batch.toarray()\n",
    "            \n",
    "        counter += 1\n",
    "        yield [image_batch, text_batch]"
   ]
  },
  {
   "cell_type": "code",
   "execution_count": 96,
   "metadata": {
    "collapsed": true
   },
   "outputs": [],
   "source": [
    "generator=generator_for_predict(resnet_classify7,tfidf)"
   ]
  },
  {
   "cell_type": "code",
   "execution_count": 97,
   "metadata": {
    "collapsed": true,
    "scrolled": true
   },
   "outputs": [],
   "source": [
    "batch_size=32\n",
    "steps=int(np.ceil(tfidf.shape[0]/batch_size))\n",
    "predict_to_classify7=mymodel.predict_generator(generator,steps=steps)"
   ]
  },
  {
   "cell_type": "code",
   "execution_count": 98,
   "metadata": {},
   "outputs": [
    {
     "data": {
      "text/plain": [
       "array([[  6.55707800e-06,   1.63365126e-04,   7.59741582e-04, ...,\n",
       "          3.36577541e-05,   2.35780230e-04,   7.88879515e-06],\n",
       "       [  1.20914424e-11,   4.83713555e-11,   3.63866576e-10, ...,\n",
       "          7.58824915e-13,   3.51811608e-10,   6.04865984e-12],\n",
       "       [  1.46517992e-10,   3.25827892e-10,   4.61791405e-09, ...,\n",
       "          4.29598668e-09,   2.89855109e-08,   1.77839588e-09],\n",
       "       ..., \n",
       "       [  1.26384905e-13,   2.71612094e-10,   1.13035102e-10, ...,\n",
       "          1.43905218e-11,   3.16305271e-09,   1.82623236e-10],\n",
       "       [  1.90975552e-05,   1.07671858e-05,   4.67324935e-05, ...,\n",
       "          5.51407720e-06,   7.47852173e-05,   1.56427987e-07],\n",
       "       [  3.67630819e-05,   3.49612804e-07,   3.66448404e-07, ...,\n",
       "          2.05495301e-08,   5.16394721e-07,   1.36452227e-08]], dtype=float32)"
      ]
     },
     "execution_count": 98,
     "metadata": {},
     "output_type": "execute_result"
    }
   ],
   "source": [
    "predict_to_classify7"
   ]
  },
  {
   "cell_type": "code",
   "execution_count": 99,
   "metadata": {
    "collapsed": true
   },
   "outputs": [],
   "source": [
    "# Convert prediction matrix into one-hot vectors based on largest values in arrays\n",
    "for i in range(len(predict_to_classify7)):\n",
    "    max_value=np.max(predict_to_classify7[i])\n",
    "    predict_to_classify7[i]=np.where(predict_to_classify7[i]==max_value,1,0)"
   ]
  },
  {
   "cell_type": "code",
   "execution_count": 100,
   "metadata": {
    "collapsed": true
   },
   "outputs": [],
   "source": [
    "categories_prediction=mlb.inverse_transform(predict_to_classify7)"
   ]
  },
  {
   "cell_type": "code",
   "execution_count": 101,
   "metadata": {
    "collapsed": true
   },
   "outputs": [],
   "source": [
    "categories_prediction=[list(i)[0] for i in categories_prediction]"
   ]
  },
  {
   "cell_type": "code",
   "execution_count": 102,
   "metadata": {},
   "outputs": [
    {
     "data": {
      "text/html": [
       "<div>\n",
       "<style scoped>\n",
       "    .dataframe tbody tr th:only-of-type {\n",
       "        vertical-align: middle;\n",
       "    }\n",
       "\n",
       "    .dataframe tbody tr th {\n",
       "        vertical-align: top;\n",
       "    }\n",
       "\n",
       "    .dataframe thead th {\n",
       "        text-align: right;\n",
       "    }\n",
       "</style>\n",
       "<table border=\"1\" class=\"dataframe\">\n",
       "  <thead>\n",
       "    <tr style=\"text-align: right;\">\n",
       "      <th></th>\n",
       "      <th>CategoryName</th>\n",
       "    </tr>\n",
       "  </thead>\n",
       "  <tbody>\n",
       "    <tr>\n",
       "      <th>0</th>\n",
       "      <td>Office Electronics</td>\n",
       "    </tr>\n",
       "    <tr>\n",
       "      <th>1</th>\n",
       "      <td>Calculators</td>\n",
       "    </tr>\n",
       "    <tr>\n",
       "      <th>2</th>\n",
       "      <td>Televisions</td>\n",
       "    </tr>\n",
       "    <tr>\n",
       "      <th>3</th>\n",
       "      <td>GPS &amp; Navigation</td>\n",
       "    </tr>\n",
       "    <tr>\n",
       "      <th>4</th>\n",
       "      <td>Car Subwoofers &amp; Amplifiers</td>\n",
       "    </tr>\n",
       "  </tbody>\n",
       "</table>\n",
       "</div>"
      ],
      "text/plain": [
       "                  CategoryName\n",
       "0           Office Electronics\n",
       "1                  Calculators\n",
       "2                  Televisions\n",
       "3             GPS & Navigation\n",
       "4  Car Subwoofers & Amplifiers"
      ]
     },
     "execution_count": 102,
     "metadata": {},
     "output_type": "execute_result"
    }
   ],
   "source": [
    "cat_df=pd.DataFrame(categories_prediction,columns=['CategoryName'])\n",
    "cat_df.head()"
   ]
  },
  {
   "cell_type": "code",
   "execution_count": 103,
   "metadata": {},
   "outputs": [
    {
     "data": {
      "text/html": [
       "<div>\n",
       "<style scoped>\n",
       "    .dataframe tbody tr th:only-of-type {\n",
       "        vertical-align: middle;\n",
       "    }\n",
       "\n",
       "    .dataframe tbody tr th {\n",
       "        vertical-align: top;\n",
       "    }\n",
       "\n",
       "    .dataframe thead th {\n",
       "        text-align: right;\n",
       "    }\n",
       "</style>\n",
       "<table border=\"1\" class=\"dataframe\">\n",
       "  <thead>\n",
       "    <tr style=\"text-align: right;\">\n",
       "      <th></th>\n",
       "      <th>ASIN</th>\n",
       "      <th>BrandName</th>\n",
       "      <th>Title</th>\n",
       "      <th>ImageUrl</th>\n",
       "      <th>Images</th>\n",
       "      <th>CategoryName</th>\n",
       "    </tr>\n",
       "  </thead>\n",
       "  <tbody>\n",
       "    <tr>\n",
       "      <th>30000</th>\n",
       "      <td>B00MH2NKPG</td>\n",
       "      <td>Obihai</td>\n",
       "      <td>Obihai OBi1032 IP Phone with Power Supply - Up...</td>\n",
       "      <td>https://images-na.ssl-images-amazon.com/images...</td>\n",
       "      <td>413cCxpbRsL.jpg</td>\n",
       "      <td>Office Electronics</td>\n",
       "    </tr>\n",
       "    <tr>\n",
       "      <th>30001</th>\n",
       "      <td>B00PSTN09G</td>\n",
       "      <td>Unknown</td>\n",
       "      <td>Texas Instruments compatible USB Cable for TI ...</td>\n",
       "      <td>https://images-na.ssl-images-amazon.com/images...</td>\n",
       "      <td>413cjpT78iL.jpg</td>\n",
       "      <td>Calculators</td>\n",
       "    </tr>\n",
       "    <tr>\n",
       "      <th>30002</th>\n",
       "      <td>B013LHDV9A</td>\n",
       "      <td>Samsung</td>\n",
       "      <td>Samsung DB55E 55-Inch 1920x1080 Resolution Led TV</td>\n",
       "      <td>https://images-na.ssl-images-amazon.com/images...</td>\n",
       "      <td>413Ck0IlUrL.jpg</td>\n",
       "      <td>Televisions</td>\n",
       "    </tr>\n",
       "    <tr>\n",
       "      <th>30003</th>\n",
       "      <td>B072BVBBVB</td>\n",
       "      <td>Multi-Tech</td>\n",
       "      <td>Multi-tech MTCDP-EV2-GP-N16-1.0 CELLULAR GATEW...</td>\n",
       "      <td>https://images-na.ssl-images-amazon.com/images...</td>\n",
       "      <td>413cKz9HTAL.jpg</td>\n",
       "      <td>GPS &amp; Navigation</td>\n",
       "    </tr>\n",
       "    <tr>\n",
       "      <th>30004</th>\n",
       "      <td>B00CLFM596</td>\n",
       "      <td>Pioneer</td>\n",
       "      <td>Pioneer Gm-D9601 2,400-Watt Class D Mono Amp</td>\n",
       "      <td>https://images-na.ssl-images-amazon.com/images...</td>\n",
       "      <td>413CVQiVerL.jpg</td>\n",
       "      <td>Car Subwoofers &amp; Amplifiers</td>\n",
       "    </tr>\n",
       "  </tbody>\n",
       "</table>\n",
       "</div>"
      ],
      "text/plain": [
       "             ASIN   BrandName  \\\n",
       "30000  B00MH2NKPG      Obihai   \n",
       "30001  B00PSTN09G     Unknown   \n",
       "30002  B013LHDV9A     Samsung   \n",
       "30003  B072BVBBVB  Multi-Tech   \n",
       "30004  B00CLFM596     Pioneer   \n",
       "\n",
       "                                                   Title  \\\n",
       "30000  Obihai OBi1032 IP Phone with Power Supply - Up...   \n",
       "30001  Texas Instruments compatible USB Cable for TI ...   \n",
       "30002  Samsung DB55E 55-Inch 1920x1080 Resolution Led TV   \n",
       "30003  Multi-tech MTCDP-EV2-GP-N16-1.0 CELLULAR GATEW...   \n",
       "30004       Pioneer Gm-D9601 2,400-Watt Class D Mono Amp   \n",
       "\n",
       "                                                ImageUrl           Images  \\\n",
       "30000  https://images-na.ssl-images-amazon.com/images...  413cCxpbRsL.jpg   \n",
       "30001  https://images-na.ssl-images-amazon.com/images...  413cjpT78iL.jpg   \n",
       "30002  https://images-na.ssl-images-amazon.com/images...  413Ck0IlUrL.jpg   \n",
       "30003  https://images-na.ssl-images-amazon.com/images...  413cKz9HTAL.jpg   \n",
       "30004  https://images-na.ssl-images-amazon.com/images...  413CVQiVerL.jpg   \n",
       "\n",
       "                      CategoryName  \n",
       "30000           Office Electronics  \n",
       "30001                  Calculators  \n",
       "30002                  Televisions  \n",
       "30003             GPS & Navigation  \n",
       "30004  Car Subwoofers & Amplifiers  "
      ]
     },
     "execution_count": 103,
     "metadata": {},
     "output_type": "execute_result"
    }
   ],
   "source": [
    "#Merge Categories prediction with origin data.\n",
    "to_classify7=to_classify7.copy()\n",
    "cat_df=cat_df.set_index(to_classify7.index)\n",
    "to_classify7=pd.concat([to_classify7,cat_df],axis=1)\n",
    "to_classify7.head()"
   ]
  },
  {
   "cell_type": "code",
   "execution_count": 27,
   "metadata": {
    "collapsed": true
   },
   "outputs": [],
   "source": [
    "to_classify1.to_excel('to_classify1.xlsx',sheet_name='0-4999')"
   ]
  },
  {
   "cell_type": "code",
   "execution_count": 39,
   "metadata": {
    "collapsed": true
   },
   "outputs": [],
   "source": [
    "to_classify2.to_excel('to_classify2.xlsx',sheet_name='5000-9999')"
   ]
  },
  {
   "cell_type": "code",
   "execution_count": 51,
   "metadata": {
    "collapsed": true
   },
   "outputs": [],
   "source": [
    "to_classify5.to_excel('to_classify5.xlsx',sheet_name='20000-24999')"
   ]
  },
  {
   "cell_type": "code",
   "execution_count": 63,
   "metadata": {
    "collapsed": true
   },
   "outputs": [],
   "source": [
    "to_classify3.to_excel('to_classify3.xlsx',sheet_name='10000-14999')"
   ]
  },
  {
   "cell_type": "code",
   "execution_count": 75,
   "metadata": {
    "collapsed": true
   },
   "outputs": [],
   "source": [
    "to_classify4.to_excel('to_classify4.xlsx',sheet_name='15000-19999')"
   ]
  },
  {
   "cell_type": "code",
   "execution_count": 40,
   "metadata": {
    "collapsed": true
   },
   "outputs": [],
   "source": [
    "to_classify11.to_excel('to_classify11.xlsx',sheet_name='50000-')"
   ]
  },
  {
   "cell_type": "code",
   "execution_count": 53,
   "metadata": {
    "collapsed": true
   },
   "outputs": [],
   "source": [
    "to_classify10.to_excel('to_classify10.xlsx',sheet_name='45000-49999')"
   ]
  },
  {
   "cell_type": "code",
   "execution_count": 65,
   "metadata": {
    "collapsed": true
   },
   "outputs": [],
   "source": [
    "to_classify9.to_excel('to_classify9.xlsx',sheet_name='40000-44999')"
   ]
  },
  {
   "cell_type": "code",
   "execution_count": 77,
   "metadata": {
    "collapsed": true
   },
   "outputs": [],
   "source": [
    "to_classify6.to_excel('to_classify6.xlsx',sheet_name='25000-29999')"
   ]
  },
  {
   "cell_type": "code",
   "execution_count": 89,
   "metadata": {
    "collapsed": true
   },
   "outputs": [],
   "source": [
    "to_classify8.to_excel('to_classify8.xlsx',sheet_name='35000-49999')"
   ]
  },
  {
   "cell_type": "code",
   "execution_count": 104,
   "metadata": {
    "collapsed": true
   },
   "outputs": [],
   "source": [
    "to_classify7.to_excel('to_classify7.xlsx',sheet_name='30000-34999')"
   ]
  },
  {
   "cell_type": "code",
   "execution_count": 108,
   "metadata": {
    "collapsed": true
   },
   "outputs": [],
   "source": [
    "# Merge all prediction excels\n",
    "df1=pd.read_excel('to_classify1.xlsx')\n",
    "df2=pd.read_excel('to_classify2.xlsx')\n",
    "df3=pd.read_excel('to_classify3.xlsx')\n",
    "df4=pd.read_excel('to_classify4.xlsx')\n",
    "df5=pd.read_excel('to_classify5.xlsx')\n",
    "df6=pd.read_excel('to_classify6.xlsx')\n",
    "df7=pd.read_excel('to_classify7.xlsx')\n",
    "df8=pd.read_excel('to_classify8.xlsx')\n",
    "df9=pd.read_excel('to_classify9.xlsx')\n",
    "df10=pd.read_excel('to_classify10.xlsx')\n",
    "df11=pd.read_excel('to_classify11.xlsx')"
   ]
  },
  {
   "cell_type": "code",
   "execution_count": 112,
   "metadata": {
    "collapsed": true
   },
   "outputs": [],
   "source": [
    "df=pd.concat([df1,df2,df3,df4,df5,df6,df7,df8,df9,df10,df11])\n",
    "df.to_excel('classified.xlsx',index=False)"
   ]
  },
  {
   "cell_type": "code",
   "execution_count": null,
   "metadata": {
    "collapsed": true
   },
   "outputs": [],
   "source": []
  }
 ],
 "metadata": {
  "kernelspec": {
   "display_name": "Python 3",
   "language": "python",
   "name": "python3"
  },
  "language_info": {
   "codemirror_mode": {
    "name": "ipython",
    "version": 3
   },
   "file_extension": ".py",
   "mimetype": "text/x-python",
   "name": "python",
   "nbconvert_exporter": "python",
   "pygments_lexer": "ipython3",
   "version": "3.6.3"
  }
 },
 "nbformat": 4,
 "nbformat_minor": 2
}
